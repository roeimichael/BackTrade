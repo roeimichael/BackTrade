{
 "cells": [
  {
   "cell_type": "code",
   "execution_count": 7,
   "id": "9266bd85",
   "metadata": {
    "pycharm": {
     "name": "#%%\n"
    }
   },
   "outputs": [],
   "source": [
    "import numpy as np\n",
    "import math\n",
    "import random\n",
    "import datetime\n",
    "import statistics\n",
    "import pandas as pd\n",
    "import seaborn as sn\n",
    "import yfinance as yf\n",
    "import matplotlib.pyplot as plt\n",
    "import os\n"
   ]
  },
  {
   "cell_type": "code",
   "execution_count": 30,
   "id": "fff9dc6b",
   "metadata": {
    "pycharm": {
     "name": "#%%\n"
    }
   },
   "outputs": [],
   "source": [
    "def add_close_change_column(data, X):\n",
    "    data['Close Change %'] = (data['Close'] - data['Close'].shift(1))/data['Close'].shift(1)*100\n",
    "    data[f'Over_{X}'] = 0\n",
    "    data.loc[data['Close Change %'] > X, f'Over_{X}'] = 1\n",
    "    return data\n",
    "\n",
    "def merge_csv_files(path, column_name):\n",
    "    merged_data = pd.DataFrame()\n",
    "    first_file = True\n",
    "    for filename in os.listdir(path):\n",
    "        if filename.endswith(\".csv\"):\n",
    "            data = pd.read_csv(os.path.join(path, filename))\n",
    "            column = data[[column_name]]\n",
    "            column= column*100\n",
    "            if first_file:\n",
    "                merged_data = column\n",
    "                first_file = False\n",
    "            else:\n",
    "                merged_data = pd.concat([merged_data, column], axis=1)\n",
    "    merged_data.columns = [filename.split(\".\")[0] for filename in os.listdir(path) if filename.endswith(\".csv\")]\n",
    "    merged_data.index = data['Date']\n",
    "    merged_data.to_csv(f\"./data/S&Pdata/{column_name}.csv\", index=True)\n",
    "    \n",
    "def create_binary_file(file, X, index_col):\n",
    "    data = pd.read_csv(file, index_col=index_col)\n",
    "    binary_data = (data >= X).astype(int)\n",
    "    binary_data.to_csv(f\"./data/S&Pdata/{file.split('.')[-2].split('/')[-1]}_binary{X}.csv\", index=True)\n",
    "    \n",
    "def add_num_stocks_column(sp500_file, binary_file, X):\n",
    "    sp500_data = pd.read_csv(sp500_file)\n",
    "    binary_data = pd.read_csv(binary_file)\n",
    "    num_stocks = binary_data.sum(axis=1)\n",
    "    sp500_data[f\"Num Stocks Above {X}\"] = num_stocks\n",
    "    sp500_data.to_csv(sp500_file, index=False)"
   ]
  },
  {
   "cell_type": "code",
   "execution_count": 33,
   "id": "529f3a80",
   "metadata": {
    "scrolled": true,
    "pycharm": {
     "name": "#%%\n"
    }
   },
   "outputs": [
    {
     "name": "stderr",
     "output_type": "stream",
     "text": [
      "C:\\Users\\roeym\\AppData\\Local\\Temp/ipykernel_4468/672485143.py:32: FutureWarning: Dropping of nuisance columns in DataFrame reductions (with 'numeric_only=None') is deprecated; in a future version this will raise TypeError.  Select only valid columns before calling the reduction.\n",
      "  num_stocks = binary_data.sum(axis=1)\n"
     ]
    }
   ],
   "source": [
    "df = pd.read_csv(\"./data/S&Pdata/S&P500.csv\")\n",
    "# df = df.loc[:, ~df.columns.str.contains('^Unnamed')]\n",
    "# df = add_close_change_column(df, 2.5)\n",
    "# df.to_csv(\"./data/S&Pdata/S&P500.csv\", index=True)\n",
    "# merge_csv_files(\"./data/stocks/\", \"Close Change\")\n",
    "# file_path = \"./data/S&Pdata/Close Change.csv\"\n",
    "# create_binary_file(file_path, 2, \"Date\")\n",
    "add_num_stocks_column(\"./data/S&Pdata/S&P500.csv\",\"./data/S&Pdata/Close Change_binary2.5.csv\",2.5)\n"
   ]
  },
  {
   "cell_type": "code",
   "execution_count": 80,
   "id": "423c218a",
   "metadata": {
    "pycharm": {
     "name": "#%%\n"
    }
   },
   "outputs": [
    {
     "data": {
      "text/plain": [
       "0.22913306465"
      ]
     },
     "execution_count": 80,
     "metadata": {},
     "output_type": "execute_result"
    }
   ],
   "source": [
    "sp_df = pd.read_csv(f\"./data/S&Pdata/S&P500.csv\")\n",
    "sum(sp_df[350:370]['precision'])/20\n"
   ]
  },
  {
   "cell_type": "code",
   "execution_count": null,
   "id": "4bd3626f",
   "metadata": {
    "pycharm": {
     "name": "#%%\n"
    }
   },
   "outputs": [],
   "source": []
  }
 ],
 "metadata": {
  "kernelspec": {
   "display_name": "Python 3 (ipykernel)",
   "language": "python",
   "name": "python3"
  },
  "language_info": {
   "codemirror_mode": {
    "name": "ipython",
    "version": 3
   },
   "file_extension": ".py",
   "mimetype": "text/x-python",
   "name": "python",
   "nbconvert_exporter": "python",
   "pygments_lexer": "ipython3",
   "version": "3.9.7"
  }
 },
 "nbformat": 4,
 "nbformat_minor": 5
}