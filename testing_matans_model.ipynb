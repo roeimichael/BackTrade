{
 "cells": [
  {
   "cell_type": "code",
   "execution_count": 6,
   "id": "2fb42c2a",
   "metadata": {
    "pycharm": {
     "name": "#%%\n"
    }
   },
   "outputs": [],
   "source": [
    "import numpy as np\n",
    "import math\n",
    "import random\n",
    "import datetime\n",
    "import statistics\n",
    "import pandas as pd\n",
    "import seaborn as sn\n",
    "import yfinance as yf\n",
    "import matplotlib.pyplot as plt\n",
    "from sklearn import preprocessing\n",
    "from sklearn.model_selection import train_test_split\n",
    "from sklearn import metrics  \n",
    "from sklearn.model_selection import KFold\n",
    "from sklearn.tree import export_graphviz\n",
    "from IPython.display import Image  \n",
    "import pydotplus\n",
    "from sklearn.model_selection import GridSearchCV\n",
    "from matplotlib.colors import ListedColormap\n",
    "from sklearn.preprocessing import StandardScaler\n",
    "from sklearn.discriminant_analysis import QuadraticDiscriminantAnalysis\n",
    "from sklearn.metrics import accuracy_score, precision_score, recall_score\n",
    "from sklearn.metrics import confusion_matrix\n",
    "from sklearn.metrics import f1_score\n",
    "import warnings\n",
    "warnings.filterwarnings('ignore')\n",
    "\n"
   ]
  },
  {
   "cell_type": "code",
   "execution_count": 7,
   "id": "816b7b50",
   "metadata": {
    "pycharm": {
     "name": "#%%\n"
    }
   },
   "outputs": [],
   "source": [
    "dates = []\n",
    "with open('./data/dates.txt', 'r') as fp:\n",
    "    for line in fp:\n",
    "        x = line[:-1]\n",
    "        dates.append(x)"
   ]
  },
  {
   "cell_type": "code",
   "execution_count": 19,
   "id": "e5d98d00",
   "metadata": {
    "scrolled": false,
    "pycharm": {
     "name": "#%%\n"
    }
   },
   "outputs": [
    {
     "name": "stdout",
     "output_type": "stream",
     "text": [
      "date is 2021-02-10\n",
      "--------------------------------------------\n",
      "precision: 0.23279352226720648\n",
      "recall: 1.0\n",
      "accuracy: 0.23279352226720648\n",
      "daily gain: 0.57746963562753\n",
      "\n",
      "   0    1\n",
      "0  0  379\n",
      "1  0  115\n",
      "--------------------------------------------\n",
      "date is 2021-02-11\n",
      "--------------------------------------------\n",
      "precision: 0.0\n",
      "recall: 0.0\n",
      "accuracy: 0.8016194331983806\n"
     ]
    },
    {
     "ename": "ZeroDivisionError",
     "evalue": "division by zero",
     "output_type": "error",
     "traceback": [
      "\u001B[1;31m---------------------------------------------------------------------------\u001B[0m",
      "\u001B[1;31mZeroDivisionError\u001B[0m                         Traceback (most recent call last)",
      "\u001B[1;32m~\\AppData\\Local\\Temp/ipykernel_52020/1550267473.py\u001B[0m in \u001B[0;36m<module>\u001B[1;34m\u001B[0m\n\u001B[0;32m     63\u001B[0m     \u001B[0mprint\u001B[0m\u001B[1;33m(\u001B[0m\u001B[1;34mf\"the total profit made from this classifier {totP}\"\u001B[0m\u001B[1;33m)\u001B[0m\u001B[1;33m\u001B[0m\u001B[1;33m\u001B[0m\u001B[0m\n\u001B[0;32m     64\u001B[0m     \u001B[0mprint\u001B[0m\u001B[1;33m(\u001B[0m\u001B[1;34m\"--------------------------------------------\"\u001B[0m\u001B[1;33m)\u001B[0m\u001B[1;33m\u001B[0m\u001B[1;33m\u001B[0m\u001B[0m\n\u001B[1;32m---> 65\u001B[1;33m \u001B[0mtest_classifier\u001B[0m\u001B[1;33m(\u001B[0m\u001B[1;36m450\u001B[0m\u001B[1;33m,\u001B[0m\u001B[1;36m480\u001B[0m\u001B[1;33m,\u001B[0m\u001B[1;36m1.5\u001B[0m\u001B[1;33m)\u001B[0m\u001B[1;33m\u001B[0m\u001B[1;33m\u001B[0m\u001B[0m\n\u001B[0m",
      "\u001B[1;32m~\\AppData\\Local\\Temp/ipykernel_52020/1550267473.py\u001B[0m in \u001B[0;36mtest_classifier\u001B[1;34m(startindex, endindex, percent)\u001B[0m\n\u001B[0;32m     51\u001B[0m         \u001B[0mprint\u001B[0m\u001B[1;33m(\u001B[0m\u001B[1;34mf\"recall: {metrics.recall_score(y_validate, y_pred)}\"\u001B[0m\u001B[1;33m)\u001B[0m\u001B[1;33m\u001B[0m\u001B[1;33m\u001B[0m\u001B[0m\n\u001B[0;32m     52\u001B[0m         \u001B[0mprint\u001B[0m\u001B[1;33m(\u001B[0m\u001B[1;34mf\"accuracy: {metrics.accuracy_score(y_validate, y_pred)}\"\u001B[0m\u001B[1;33m)\u001B[0m\u001B[1;33m\u001B[0m\u001B[1;33m\u001B[0m\u001B[0m\n\u001B[1;32m---> 53\u001B[1;33m         \u001B[0mprint\u001B[0m\u001B[1;33m(\u001B[0m\u001B[1;34mf\"daily gain: {daily_gain/counter}\\n\"\u001B[0m\u001B[1;33m)\u001B[0m\u001B[1;33m\u001B[0m\u001B[1;33m\u001B[0m\u001B[0m\n\u001B[0m\u001B[0;32m     54\u001B[0m \u001B[1;31m#         print(f\"daily gain: {daily_gain}\\n\")\u001B[0m\u001B[1;33m\u001B[0m\u001B[1;33m\u001B[0m\u001B[0m\n\u001B[0;32m     55\u001B[0m         \u001B[0mprint\u001B[0m\u001B[1;33m(\u001B[0m\u001B[0mpd\u001B[0m\u001B[1;33m.\u001B[0m\u001B[0mDataFrame\u001B[0m\u001B[1;33m(\u001B[0m\u001B[0mmetrics\u001B[0m\u001B[1;33m.\u001B[0m\u001B[0mconfusion_matrix\u001B[0m\u001B[1;33m(\u001B[0m\u001B[0my_validate\u001B[0m\u001B[1;33m,\u001B[0m \u001B[0my_pred\u001B[0m\u001B[1;33m)\u001B[0m\u001B[1;33m)\u001B[0m\u001B[1;33m)\u001B[0m\u001B[1;33m\u001B[0m\u001B[1;33m\u001B[0m\u001B[0m\n",
      "\u001B[1;31mZeroDivisionError\u001B[0m: division by zero"
     ]
    }
   ],
   "source": [
    "percisions,totalgains=[],[]\n",
    "def test_classifier(startindex , endindex, percent):\n",
    "    for i in range(startindex, endindex):\n",
    "        print(f\"date is {dates[i]}\")\n",
    "        daily_gain,counter= 0,0\n",
    "        # the current date (the training data) df cleaned\n",
    "        date_df = pd.read_csv(f\"./data/dates{percent}/{dates[i]}.csv\")\n",
    "        date_df = date_df.loc[:, ~date_df.columns.str.contains('^Unnamed')]\n",
    "        \n",
    "        # the next day (the validation data) date df cleaned\n",
    "        next_date_df = pd.read_csv(f\"./data/dates{percent}/{dates[i + 1]}.csv\")\n",
    "        next_date_df = next_date_df.loc[:, ~next_date_df.columns.str.contains('^Unnamed')]\n",
    "        \n",
    "        # the next next day to get gains and losses \n",
    "        results_df = pd.read_csv(f\"./data/dates{percent}/{dates[i + 2]}.csv\")\n",
    "        results_df = results_df.loc[:, ~results_df.columns.str.contains('^Unnamed')]\n",
    "        \n",
    "        # the targets of each date to confirm models results.\n",
    "        target_df = pd.read_csv(f\"./data/targets/Targets{percent}.csv\")\n",
    "        \n",
    "        #train validation split \n",
    "        x_train = date_df.drop(['ticker'], axis=1)\n",
    "        x_validate = next_date_df.drop(['ticker'], axis=1) \n",
    "        y_train = target_df[dates[i+1]] \n",
    "        y_validate = target_df[dates[i+2]] \n",
    "        \n",
    "        #scaling the data\n",
    "#         scaler = preprocessing.StandardScaler()\n",
    "#         X_train = scaler.fit_transform(x_train)\n",
    "#         x_validate = scaler.fit_transform(x_validate)\n",
    "\n",
    "        #define model and run data through it \n",
    "        model = QuadraticDiscriminantAnalysis()\n",
    "        model.fit(x_train, y_train)\n",
    "        y_pred = model.predict(x_validate)\n",
    "\n",
    "        #calculate daily positions and daily gain\n",
    "        for j in range(len(y_pred)):\n",
    "            if y_pred[j] == True:\n",
    "                counter = counter + 1\n",
    "#                 print(f\"gain : {round(results_df.at[j, 'Close Change']*100,2)} \\t stock : {results_df.at[j, 'ticker']}\")\n",
    "                daily_gain = daily_gain + round(results_df.at[j, 'Close Change']*100,2)\n",
    "        #print daily results (precision, recall , acc , daily gain and )\n",
    "        print(\"--------------------------------------------\")   \n",
    "        percisions.append(metrics.precision_score(y_validate, y_pred))\n",
    "        if counter == 0 :\n",
    "            totalgains.append(1)\n",
    "        else:\n",
    "            totalgains.append(1+ (daily_gain/counter)/100)\n",
    "        print(f\"precision: {metrics.precision_score(y_validate, y_pred)}\")\n",
    "        print(f\"recall: {metrics.recall_score(y_validate, y_pred)}\")\n",
    "        print(f\"accuracy: {metrics.accuracy_score(y_validate, y_pred)}\")\n",
    "        if counter == 0:\n",
    "            print(f\"daily gain: {daily_gain/counter}\\n\")\n",
    "        \n",
    "#         print(f\"daily gain: {daily_gain}\\n\") \n",
    "        print(pd.DataFrame(metrics.confusion_matrix(y_validate, y_pred)))\n",
    "        print(\"--------------------------------------------\")\n",
    "\n",
    "    print(\"--------------------------------------------\")\n",
    "    print(f\"avg percision:{sum(percisions) / len(percisions)}\") \n",
    "    totP = 1\n",
    "    for gain in totalgains:\n",
    "        totP = totP*gain\n",
    "    print(f\"the total profit made from this classifier {totP}\")\n",
    "    print(\"--------------------------------------------\")\n",
    "test_classifier(450,480,1.5)"
   ]
  },
  {
   "cell_type": "code",
   "execution_count": null,
   "id": "09972633",
   "metadata": {
    "pycharm": {
     "name": "#%%\n"
    }
   },
   "outputs": [],
   "source": []
  }
 ],
 "metadata": {
  "kernelspec": {
   "display_name": "Python 3 (ipykernel)",
   "language": "python",
   "name": "python3"
  },
  "language_info": {
   "codemirror_mode": {
    "name": "ipython",
    "version": 3
   },
   "file_extension": ".py",
   "mimetype": "text/x-python",
   "name": "python",
   "nbconvert_exporter": "python",
   "pygments_lexer": "ipython3",
   "version": "3.9.7"
  }
 },
 "nbformat": 4,
 "nbformat_minor": 5
}